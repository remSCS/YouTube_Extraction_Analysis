{
 "cells": [
  {
   "cell_type": "code",
   "execution_count": 1,
   "metadata": {},
   "outputs": [],
   "source": [
    "import pandas as pd\n",
    "import requests as req\n",
    "import bs4 as bs"
   ]
  },
  {
   "cell_type": "code",
   "execution_count": 2,
   "metadata": {},
   "outputs": [
    {
     "name": "stdout",
     "output_type": "stream",
     "text": [
      "File read\n",
      "Parsing HTML...\n"
     ]
    }
   ],
   "source": [
    "with open(r'data\\raw\\history\\watch-history.html', 'r', encoding='utf-8') as f:\n",
    "    html = f.read()\n",
    "    print(\"File read\\nParsing HTML...\")\n",
    "    parsed = bs.BeautifulSoup(html, 'lxml')\n",
    "    \n",
    "# Create a duplicate of the parsed HTML\n",
    "parsed_safe = parsed"
   ]
  },
  {
   "cell_type": "code",
   "execution_count": 3,
   "metadata": {},
   "outputs": [
    {
     "name": "stdout",
     "output_type": "stream",
     "text": [
      "Number of videos watched: 37063\n"
     ]
    }
   ],
   "source": [
    "# Get the divs containing the watch history items\n",
    "watched_videos_divs = parsed.find_all('div', class_='outer-cell mdl-cell mdl-cell--12-col mdl-shadow--2dp')\n",
    "\n",
    "print(\"Number of videos watched:\", len(watched_videos_divs))"
   ]
  },
  {
   "cell_type": "code",
   "execution_count": 4,
   "metadata": {},
   "outputs": [],
   "source": [
    "from dateutil.parser import parse\n",
    "import pytz\n",
    "\n",
    "def parse_date(date_string):\n",
    "    \"\"\"Parses a date string into a datetime object\"\"\"\n",
    "    # Create a timezone object for 'CET'   \n",
    "    tz = pytz.timezone(date_string[-3:])\n",
    "\n",
    "    # convert the date string to a datetime object (18 Jan 2023, 20:57:44 CET)\n",
    "    date_object = parse(date_string[:-4])\n",
    "\n",
    "    #localize datetime object\n",
    "    date_object = tz.localize(date_object)\n",
    "    \n",
    "    return date_object\n",
    "\n",
    "\n",
    "def extract_info(watched_video):\n",
    "    \"\"\"Extracts the video title, channel name, and watch date from a watched video div\"\"\"\n",
    "    is_removed = False\n",
    "    is_full = True\n",
    "    \n",
    "    # Extract the correct div\n",
    "    video_info = watched_video.find('div', class_='content-cell mdl-cell mdl-cell--6-col mdl-typography--body-1')\n",
    "    \n",
    "    # Get the watch date\n",
    "    date_string = video_info.find_all('br')[-1].next_sibling\n",
    "    watch_date = parse_date(date_string)\n",
    "\n",
    "    try:\n",
    "        title, uploader = video_info.find_all('a')\n",
    "    except ValueError:\n",
    "        try:\n",
    "            is_full = False\n",
    "            title = video_info.find_all('a')[0]\n",
    "            uploader = video_info.find_all('a')[0]\n",
    "        except IndexError:\n",
    "            is_removed = True\n",
    "    \n",
    "    if not is_removed:\n",
    "        # Get the video title and link\n",
    "        video_title = title.text\n",
    "        video_url = title['href']\n",
    "        \n",
    "        if is_full:\n",
    "            # Get the channel name and link\n",
    "            channel_name = uploader.text\n",
    "            channel_url = uploader['href']\n",
    "        else:\n",
    "            channel_name = None\n",
    "            channel_url = None\n",
    "    else: \n",
    "        video_title = None\n",
    "        video_url = None\n",
    "        channel_name = None\n",
    "        channel_url = None\n",
    "        \n",
    "    return video_title, video_url, channel_name, channel_url, watch_date"
   ]
  },
  {
   "cell_type": "code",
   "execution_count": 5,
   "metadata": {},
   "outputs": [
    {
     "name": "stderr",
     "output_type": "stream",
     "text": [
      "100%|██████████| 37063/37063 [00:07<00:00, 4831.43it/s]\n"
     ]
    }
   ],
   "source": [
    "from tqdm import tqdm\n",
    "\n",
    "watched_videos = []\n",
    "\n",
    "for video in tqdm(watched_videos_divs):\n",
    "    watched_videos.append(extract_info(video))"
   ]
  },
  {
   "cell_type": "code",
   "execution_count": 6,
   "metadata": {},
   "outputs": [],
   "source": [
    "# Create a dataframe from the list of watched videos\n",
    "watched_videos_df = pd.DataFrame(watched_videos, columns=['video_title', 'video_url', 'channel_name', 'channel_url', 'date_watched'])"
   ]
  },
  {
   "cell_type": "code",
   "execution_count": 8,
   "metadata": {},
   "outputs": [],
   "source": [
    "# Export the dataframe to a CSV file\n",
    "watched_videos_df.to_csv(r'data\\processed\\history\\watch-history.csv', index=False)"
   ]
  },
  {
   "cell_type": "code",
   "execution_count": 9,
   "metadata": {},
   "outputs": [],
   "source": [
    "# Export the dataframe to a JSON file\n",
    "watched_videos_df.to_json(r'data\\processed\\history\\watch-history.json', orient='records')"
   ]
  }
 ],
 "metadata": {
  "kernelspec": {
   "display_name": "scrapping",
   "language": "python",
   "name": "python3"
  },
  "language_info": {
   "codemirror_mode": {
    "name": "ipython",
    "version": 3
   },
   "file_extension": ".py",
   "mimetype": "text/x-python",
   "name": "python",
   "nbconvert_exporter": "python",
   "pygments_lexer": "ipython3",
   "version": "3.10.8"
  },
  "orig_nbformat": 4,
  "vscode": {
   "interpreter": {
    "hash": "8970c6038e0159fa28e87c3f369e75eb3c7e0b6056f7ed21c05d5172b2c878e7"
   }
  }
 },
 "nbformat": 4,
 "nbformat_minor": 2
}
