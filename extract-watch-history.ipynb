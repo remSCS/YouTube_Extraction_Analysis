{
 "cells": [
  {
   "cell_type": "code",
   "execution_count": 79,
   "metadata": {},
   "outputs": [],
   "source": [
    "import pandas as pd\n",
    "import requests as req\n",
    "import bs4 as bs\n",
    "from datetime import datetime\n",
    "import pytz"
   ]
  },
  {
   "cell_type": "code",
   "execution_count": 5,
   "metadata": {},
   "outputs": [
    {
     "name": "stdout",
     "output_type": "stream",
     "text": [
      "File read\n",
      "Parsing HTML...\n"
     ]
    }
   ],
   "source": [
    "with open(r'data\\history\\watch-history.html', 'r', encoding='utf-8') as f:\n",
    "    html = f.read()\n",
    "    print(\"File read\\nParsing HTML...\")\n",
    "    parsed = bs.BeautifulSoup(html, 'lxml')\n",
    "    \n",
    "# Create a duplicate of the parsed HTML\n",
    "parsed_safe = parsed"
   ]
  },
  {
   "cell_type": "code",
   "execution_count": 68,
   "metadata": {},
   "outputs": [
    {
     "name": "stdout",
     "output_type": "stream",
     "text": [
      "Number of videos watched: 37063\n"
     ]
    }
   ],
   "source": [
    "# Get the divs containing the watch history items\n",
    "watched_videos = parsed.find_all('div', class_='outer-cell mdl-cell mdl-cell--12-col mdl-shadow--2dp')\n",
    "\n",
    "print(\"Number of videos watched:\", len(watched_videos))"
   ]
  },
  {
   "cell_type": "code",
   "execution_count": 88,
   "metadata": {},
   "outputs": [],
   "source": [
    "def parse_date(date_string):\n",
    "    \"\"\"Parses a date string into a datetime object\"\"\"\n",
    "    # Create a timezone object for 'CET'   \n",
    "    tz = pytz.timezone(date_string[-3:])\n",
    "\n",
    "    # convert the date string to a datetime object (18 Jan 2023, 20:57:44 CET)\n",
    "    date_object = datetime.strptime(date_string[:-4], '%d %b %Y, %H:%M:%S')\n",
    "\n",
    "    #localize datetime object\n",
    "    date_object = tz.localize(date_object)\n",
    "    \n",
    "    return date_object\n",
    "\n",
    "\n",
    "def extract_info(watched_video):\n",
    "    \"\"\"Extracts the video title, channel name, and watch date from a watched video div\"\"\"\n",
    "    # Extract the correct div\n",
    "    video_info = watched_video.find('div', class_='content-cell mdl-cell mdl-cell--6-col mdl-typography--body-1')\n",
    "    \n",
    "    title, uploader = video_info.find_all('a')\n",
    "    \n",
    "    # Get the video title and link\n",
    "    video_title = title.text\n",
    "    video_url = title['href']\n",
    "    \n",
    "    # Get the channel name and link\n",
    "    channel_name = uploader.text\n",
    "    channel_url = uploader['href']\n",
    "    \n",
    "    # Get the watch date\n",
    "    date_string = video_info.find_all('br')[1].next_sibling\n",
    "    watch_date = parse_date(date_string)\n",
    "    \n",
    "    return video_title, video_url, channel_name, channel_url, watch_date"
   ]
  },
  {
   "cell_type": "code",
   "execution_count": 89,
   "metadata": {},
   "outputs": [
    {
     "name": "stdout",
     "output_type": "stream",
     "text": [
      "Extracting video info...\n",
      "('30000€ DE PRÉPA SUR CETTE GOLF 3 AVEC UN MOTEUR SPÉCIAL!!', 'https://www.youtube.com/watch?v=ZjWqytNE2RA', 'Fresh Detailing', 'https://www.youtube.com/channel/UCDJMvF9-pN-rF9Lo6BIMIEQ', datetime.datetime(2023, 1, 18, 20, 57, 44, tzinfo=<DstTzInfo 'CET' CET+1:00:00 STD>))\n"
     ]
    }
   ],
   "source": [
    "print(\"Extracting video info...\")\n",
    "print(extract_info(watched_videos[3]))"
   ]
  }
 ],
 "metadata": {
  "kernelspec": {
   "display_name": "scrapping",
   "language": "python",
   "name": "python3"
  },
  "language_info": {
   "codemirror_mode": {
    "name": "ipython",
    "version": 3
   },
   "file_extension": ".py",
   "mimetype": "text/x-python",
   "name": "python",
   "nbconvert_exporter": "python",
   "pygments_lexer": "ipython3",
   "version": "3.10.8 | packaged by conda-forge | (main, Nov  4 2022, 13:42:51) [MSC v.1916 64 bit (AMD64)]"
  },
  "orig_nbformat": 4,
  "vscode": {
   "interpreter": {
    "hash": "8970c6038e0159fa28e87c3f369e75eb3c7e0b6056f7ed21c05d5172b2c878e7"
   }
  }
 },
 "nbformat": 4,
 "nbformat_minor": 2
}
